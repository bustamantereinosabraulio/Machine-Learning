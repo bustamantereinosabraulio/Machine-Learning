{
  "nbformat": 4,
  "nbformat_minor": 0,
  "metadata": {
    "colab": {
      "provenance": [],
      "authorship_tag": "ABX9TyORRp0X5/N+hU8SEjxsjiv5",
      "include_colab_link": true
    },
    "kernelspec": {
      "name": "python3",
      "display_name": "Python 3"
    },
    "language_info": {
      "name": "python"
    }
  },
  "cells": [
    {
      "cell_type": "markdown",
      "metadata": {
        "id": "view-in-github",
        "colab_type": "text"
      },
      "source": [
        "<a href=\"https://colab.research.google.com/github/bustamantereinosabraulio/Machine-Learning/blob/main/LaboratorioOpcional300825.ipynb\" target=\"_parent\"><img src=\"https://colab.research.google.com/assets/colab-badge.svg\" alt=\"Open In Colab\"/></a>"
      ]
    },
    {
      "cell_type": "markdown",
      "source": [
        "# Laboratorio Opcional: Breve Introducción a Python y Jupyter Notebooks\n",
        "\n",
        "---\n",
        "\n",
        "## Bienvenida\n",
        "\n",
        "¡Bienvenido al primer laboratorio opcional! Los laboratorios opcionales están disponibles para:\n",
        "\n",
        "- Proporcionar información, como este cuaderno.\n",
        "- Reforzar el material de clase con ejemplos prácticos.\n",
        "- Dar ejemplos funcionales de rutinas que se usan en los laboratorios evaluados.\n"
      ],
      "metadata": {
        "id": "ax_pZOPuRE1Y"
      }
    },
    {
      "cell_type": "markdown",
      "source": [
        "## Objetivos\n",
        "\n",
        "En este laboratorio, tú:\n",
        "\n",
        "- Obtendrás una breve introducción a los cuadernos Jupyter.\n",
        "- Harás un recorrido por los cuadernos Jupyter.\n",
        "- Aprenderás la diferencia entre las celdas de **Markdown** y las celdas de **código**.\n",
        "- Practicarás algo de Python básico.\n",
        "\n",
        "La forma más sencilla de familiarizarte con los cuadernos Jupyter es hacer el **tour** disponible en el menú de **Ayuda (Help)**.\n"
      ],
      "metadata": {
        "id": "gWo3k5RDRYlo"
      }
    },
    {
      "cell_type": "markdown",
      "source": [
        "## Tipos de celdas en Jupyter\n",
        "\n",
        "En los cuadernos Jupyter hay **dos tipos principales de celdas** que usaremos en este curso:\n",
        "\n",
        "### 1. Celdas Markdown (Markdown Cells)\n",
        "\n",
        "- Estas celdas contienen **documentación o texto explicativo**.\n",
        "- Se llaman así porque utilizan un lenguaje sencillo de formato llamado **Markdown**.\n",
        "- No necesitas aprender a crearlas en detalle para este curso, pero sí es útil saber qué son.\n",
        "- A veces, una celda puede cambiar al modo equivocado, y tendrás que restaurarla al formato correcto usando el menú desplegable de tipo de celda (**cell pulldown**) en la barra superior.\n",
        "\n",
        "### 2. Celdas de código (Code Cells)\n",
        "\n",
        "- Estas son las celdas donde escribirás y ejecutarás tu **código en Python**.\n"
      ],
      "metadata": {
        "id": "19gCZFjlRl_m"
      }
    },
    {
      "cell_type": "code",
      "source": [
        "# Esto es una celda de código\n",
        "print(\"Hola, mundo desde Jupyter!\")\n"
      ],
      "metadata": {
        "colab": {
          "base_uri": "https://localhost:8080/"
        },
        "id": "-W7S7g4QRwjy",
        "outputId": "a2aae18b-38f8-45ee-e6b6-f26e57990e91"
      },
      "execution_count": null,
      "outputs": [
        {
          "output_type": "stream",
          "name": "stdout",
          "text": [
            "Hola, mundo desde Jupyter!\n"
          ]
        }
      ]
    },
    {
      "cell_type": "markdown",
      "source": [
        "## Python en Jupyter\n",
        "\n",
        "Puedes escribir tu código en las **celdas de código**. Para ejecutar el código, selecciona la celda y:\n",
        "\n",
        "- Mantén presionada la tecla **Shift** y luego pulsa **Enter** o **Return**.\n",
        "- O bien, haz clic en el botón **Run (Ejecutar)** en la barra de herramientas superior.\n"
      ],
      "metadata": {
        "id": "Vyss_p0qR310"
      }
    },
    {
      "cell_type": "code",
      "source": [
        "# Esto es una celda de código en acción\n",
        "print(\"Esta es una celda de código\")\n"
      ],
      "metadata": {
        "colab": {
          "base_uri": "https://localhost:8080/"
        },
        "id": "cdoZtZYqR4N0",
        "outputId": "17cac03f-3a20-4979-9030-4bd64111f807"
      },
      "execution_count": null,
      "outputs": [
        {
          "output_type": "stream",
          "name": "stdout",
          "text": [
            "Esta es una celda de código\n"
          ]
        }
      ]
    },
    {
      "cell_type": "markdown",
      "source": [
        "## Sentencia print en Python\n",
        "\n",
        "Las sentencias `print` en Python generalmente usan el estilo de **f-strings**, lo que permite insertar variables dentro del texto.\n",
        "\n",
        "Prueba a crear tu propio `print` en la celda de abajo y usa ambos métodos para ejecutarla (Shift + Enter o el botón Run).\n"
      ],
      "metadata": {
        "id": "eNR7GTyMR_Sb"
      }
    },
    {
      "cell_type": "code",
      "source": [
        "# Ejemplo de print con f-strings\n",
        "variable = \"¡directamente en el texto!\"\n",
        "print(f\"Las f-strings te permiten insertar variables {variable}\")\n"
      ],
      "metadata": {
        "colab": {
          "base_uri": "https://localhost:8080/"
        },
        "id": "zq-JMEI_R_-5",
        "outputId": "175d692a-3a28-4e30-e8af-96380693a920"
      },
      "execution_count": null,
      "outputs": [
        {
          "output_type": "stream",
          "name": "stdout",
          "text": [
            "Las f-strings te permiten insertar variables ¡directamente en el texto!\n"
          ]
        }
      ]
    },
    {
      "cell_type": "code",
      "source": [
        "#Otro ejemplo utilizando \"f\"-string el cuál permite añadir variables de texto dentro de una operación numérica:\n",
        "a = 5\n",
        "b = 3\n",
        "print(f\"la suma de {a} + {b} es {a+b}\")"
      ],
      "metadata": {
        "colab": {
          "base_uri": "https://localhost:8080/"
        },
        "id": "4Y_SKpUMSufQ",
        "outputId": "4bf469a1-8802-470b-b13c-5d544244f66d"
      },
      "execution_count": null,
      "outputs": [
        {
          "output_type": "stream",
          "name": "stdout",
          "text": [
            "la suma de 5 + 3 es 8\n"
          ]
        }
      ]
    },
    {
      "cell_type": "markdown",
      "source": [
        "Formas comunes de concatenar en Python"
      ],
      "metadata": {
        "id": "CsvvJ0rDUD-V"
      }
    },
    {
      "cell_type": "code",
      "source": [
        "nombre = \"Braulio\"\n",
        "edad = 33\n",
        "print(\"Hola \" + nombre + \", tienes \" + str(edad) + \" años.\")\n"
      ],
      "metadata": {
        "colab": {
          "base_uri": "https://localhost:8080/"
        },
        "id": "3r9wrDxdUxFc",
        "outputId": "6feb13c0-a2f0-41cf-f856-d6343e8f4285"
      },
      "execution_count": null,
      "outputs": [
        {
          "output_type": "stream",
          "name": "stdout",
          "text": [
            "Hola Braulio, tienes 33 años.\n"
          ]
        }
      ]
    },
    {
      "cell_type": "code",
      "source": [
        "nombre = \"Braulio\"\n",
        "edad = 33\n",
        "print(\"Hola {}, tienes {} años.\".format(nombre, edad))\n"
      ],
      "metadata": {
        "colab": {
          "base_uri": "https://localhost:8080/"
        },
        "id": "IsbEQbrZUyvG",
        "outputId": "8aa2c601-7bbb-4163-89fc-bc66cd9ede29"
      },
      "execution_count": null,
      "outputs": [
        {
          "output_type": "stream",
          "name": "stdout",
          "text": [
            "Hola Braulio, tienes 33 años.\n"
          ]
        }
      ]
    },
    {
      "cell_type": "code",
      "source": [
        "nombre = \"Braulio\"\n",
        "edad = 33\n",
        "print(f\"Hola {nombre}, tienes {edad} años.\")\n"
      ],
      "metadata": {
        "colab": {
          "base_uri": "https://localhost:8080/"
        },
        "id": "eG4o4SDPU360",
        "outputId": "779c3ca6-3dce-455f-a344-41528834ee3e"
      },
      "execution_count": null,
      "outputs": [
        {
          "output_type": "stream",
          "name": "stdout",
          "text": [
            "Hola Braulio, tienes 33 años.\n"
          ]
        }
      ]
    },
    {
      "cell_type": "code",
      "source": [
        "nombre = \"Heidyta\"\n",
        "edad = \"28\"\n",
        "print (f\"Mi novia {nombre} tiene {edad} años\")"
      ],
      "metadata": {
        "colab": {
          "base_uri": "https://localhost:8080/"
        },
        "id": "1FvIQubCVqqi",
        "outputId": "c3b4a2c2-1928-4b9d-84bc-e0cd89dbcbfe"
      },
      "execution_count": null,
      "outputs": [
        {
          "output_type": "stream",
          "name": "stdout",
          "text": [
            "Mi novia Heidyta tiene 28 años\n"
          ]
        }
      ]
    },
    {
      "cell_type": "markdown",
      "source": [
        "La que más se utiliza es f-string, es la más práctica y moderna"
      ],
      "metadata": {
        "id": "b-MBHGZ5U7cw"
      }
    },
    {
      "cell_type": "markdown",
      "source": [
        "## ¡Felicidades!\n",
        "\n",
        "Ahora ya sabes cómo moverte y trabajar dentro de un cuaderno Jupyter. 🎉\n"
      ],
      "metadata": {
        "id": "KcwL3AX7VG_K"
      }
    }
  ]
}